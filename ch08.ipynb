{
 "cells": [
  {
   "cell_type": "code",
   "execution_count": 1,
   "metadata": {},
   "outputs": [],
   "source": [
    "import pandas as pd\n",
    "import gensim\n",
    "file_path = \"../data/GoogleNews-vectors-negative300.bin.gz\"\n",
    "word2vec = gensim.models.KeyedVectors.load_word2vec_format(file_path, binary=True)\n",
    "\n",
    "train = pd.read_csv(\"../data/train.txt\", sep=\"\\t\")\n",
    "valid = pd.read_csv(\"../data/valid.txt\", sep=\"\\t\")\n",
    "test = pd.read_csv(\"../data/test.txt\", sep = \"\\t\")"
   ]
  },
  {
   "cell_type": "code",
   "execution_count": 3,
   "metadata": {},
   "outputs": [],
   "source": [
    "#70\n",
    "import numpy as np\n",
    "def get_mean_vec(df):\n",
    "    result=[]\n",
    "    for sentence in df.TITLE.values:\n",
    "        words_vec=[]\n",
    "        for word in sentence.split(\" \"):\n",
    "            try:\n",
    "                words_vec.append(word2vec[word].tolist())\n",
    "            except:\n",
    "                continue\n",
    "        if len(words_vec)>0:\n",
    "            result.append(np.array(words_vec).mean(axis=0).tolist())\n",
    "        else:\n",
    "            result.append([0]*300)\n",
    "    return np.array(result)\n",
    "\n",
    "X_train = get_mean_vec(train)\n",
    "X_valid = get_mean_vec(valid)\n",
    "X_test = get_mean_vec(test)\n",
    "\n",
    "from sklearn.preprocessing import LabelEncoder\n",
    "#LabelEncoderのインスタンスを生成\n",
    "le = LabelEncoder()\n",
    "#ラベルを覚えさせる\n",
    "le = le.fit(train.CATEGORY.values)\n",
    "#ラベルを整数に変換\n",
    "\n",
    "y_train = le.transform(train.CATEGORY.values)\n",
    "y_valid = le.transform(valid.CATEGORY.values)\n",
    "y_test = le.transform(test.CATEGORY.values)"
   ]
  },
  {
   "cell_type": "code",
   "execution_count": 4,
   "metadata": {},
   "outputs": [
    {
     "name": "stdout",
     "output_type": "stream",
     "text": [
      "device: cpu\n"
     ]
    }
   ],
   "source": [
    "#71\n",
    "import torch\n",
    "import torch.nn as nn\n",
    "import torch.nn.functional as F\n",
    "\n",
    "dtype = torch.float\n",
    "device = torch.device(\"cuda:0\" if torch.cuda.is_available() else \"cpu\")\n",
    "print(\"device:\", device)\n",
    "\n",
    "class singleLP(nn.Module):\n",
    "    def __init__(self):\n",
    "        super(singleLP, self).__init__()\n",
    "        self.fc=nn.Linear(300, 4)\n",
    "        self.softmax = nn.Softmax(1)\n",
    "    def forward(self, x):\n",
    "        return self.softmax(self.fc(x))    \n",
    "model = singleLP()"
   ]
  },
  {
   "cell_type": "code",
   "execution_count": 5,
   "metadata": {},
   "outputs": [],
   "source": [
    "def to_tensor(array):\n",
    "    return torch.tensor(array, dtype=dtype, device=device)\n",
    "\n",
    "X_train = to_tensor(X_train)\n",
    "X_valid = to_tensor(X_valid)\n",
    "X_test = to_tensor(X_test)\n",
    "y_train = to_tensor(y_train).long()\n",
    "y_valid = to_tensor(y_valid).long()\n",
    "y_test = to_tensor(y_test).long()"
   ]
  },
  {
   "cell_type": "code",
   "execution_count": 6,
   "metadata": {
    "scrolled": true
   },
   "outputs": [
    {
     "name": "stdout",
     "output_type": "stream",
     "text": [
      "1/100epoch loss : 1.380776047706604\n",
      "2/100epoch loss : 1.3767211437225342\n",
      "3/100epoch loss : 1.3690412044525146\n",
      "4/100epoch loss : 1.3581953048706055\n",
      "5/100epoch loss : 1.344656229019165\n",
      "6/100epoch loss : 1.3289766311645508\n",
      "7/100epoch loss : 1.3117291927337646\n",
      "8/100epoch loss : 1.2935017347335815\n",
      "9/100epoch loss : 1.2748438119888306\n",
      "10/100epoch loss : 1.2562077045440674\n",
      "11/100epoch loss : 1.2379579544067383\n",
      "12/100epoch loss : 1.220323085784912\n",
      "13/100epoch loss : 1.2034624814987183\n",
      "14/100epoch loss : 1.1874427795410156\n",
      "15/100epoch loss : 1.1722941398620605\n",
      "16/100epoch loss : 1.1580151319503784\n",
      "17/100epoch loss : 1.144620418548584\n",
      "18/100epoch loss : 1.132119059562683\n",
      "19/100epoch loss : 1.1205358505249023\n",
      "20/100epoch loss : 1.1098718643188477\n",
      "21/100epoch loss : 1.1001224517822266\n",
      "22/100epoch loss : 1.0912550687789917\n",
      "23/100epoch loss : 1.0832103490829468\n",
      "24/100epoch loss : 1.0759059190750122\n",
      "25/100epoch loss : 1.0692821741104126\n",
      "26/100epoch loss : 1.0632423162460327\n",
      "27/100epoch loss : 1.0577385425567627\n",
      "28/100epoch loss : 1.0527055263519287\n",
      "29/100epoch loss : 1.0480962991714478\n",
      "30/100epoch loss : 1.0438804626464844\n",
      "31/100epoch loss : 1.040023922920227\n",
      "32/100epoch loss : 1.0364891290664673\n",
      "33/100epoch loss : 1.0332565307617188\n",
      "34/100epoch loss : 1.0302988290786743\n",
      "35/100epoch loss : 1.0275861024856567\n",
      "36/100epoch loss : 1.025094985961914\n",
      "37/100epoch loss : 1.022804856300354\n",
      "38/100epoch loss : 1.0206894874572754\n",
      "39/100epoch loss : 1.0187339782714844\n",
      "40/100epoch loss : 1.0169143676757812\n",
      "41/100epoch loss : 1.0152207612991333\n",
      "42/100epoch loss : 1.0136430263519287\n",
      "43/100epoch loss : 1.0121674537658691\n",
      "44/100epoch loss : 1.0107836723327637\n",
      "45/100epoch loss : 1.0094887018203735\n",
      "46/100epoch loss : 1.0082688331604004\n",
      "47/100epoch loss : 1.0071241855621338\n",
      "48/100epoch loss : 1.0060497522354126\n",
      "49/100epoch loss : 1.0050355195999146\n",
      "50/100epoch loss : 1.0040801763534546\n",
      "51/100epoch loss : 1.003170371055603\n",
      "52/100epoch loss : 1.0023127794265747\n",
      "53/100epoch loss : 1.0014996528625488\n",
      "54/100epoch loss : 1.0007246732711792\n",
      "55/100epoch loss : 0.9999871253967285\n",
      "56/100epoch loss : 0.9992882609367371\n",
      "57/100epoch loss : 0.9986153244972229\n",
      "58/100epoch loss : 0.9979724884033203\n",
      "59/100epoch loss : 0.997359037399292\n",
      "60/100epoch loss : 0.9967654943466187\n",
      "61/100epoch loss : 0.9961972236633301\n",
      "62/100epoch loss : 0.9956532120704651\n",
      "63/100epoch loss : 0.9951311945915222\n",
      "64/100epoch loss : 0.9946249723434448\n",
      "65/100epoch loss : 0.9941370487213135\n",
      "66/100epoch loss : 0.9936671853065491\n",
      "67/100epoch loss : 0.9932127594947815\n",
      "68/100epoch loss : 0.9927738904953003\n",
      "69/100epoch loss : 0.992354154586792\n",
      "70/100epoch loss : 0.9919425249099731\n",
      "71/100epoch loss : 0.9915436506271362\n",
      "72/100epoch loss : 0.9911555051803589\n",
      "73/100epoch loss : 0.9907814860343933\n",
      "74/100epoch loss : 0.990418016910553\n",
      "75/100epoch loss : 0.9900612235069275\n",
      "76/100epoch loss : 0.9897167086601257\n",
      "77/100epoch loss : 0.9893821477890015\n",
      "78/100epoch loss : 0.9890536665916443\n",
      "79/100epoch loss : 0.9887360334396362\n",
      "80/100epoch loss : 0.98842453956604\n",
      "81/100epoch loss : 0.98811936378479\n",
      "82/100epoch loss : 0.9878222346305847\n",
      "83/100epoch loss : 0.9875341057777405\n",
      "84/100epoch loss : 0.9872482419013977\n",
      "85/100epoch loss : 0.9869694113731384\n",
      "86/100epoch loss : 0.9866997599601746\n",
      "87/100epoch loss : 0.9864355325698853\n",
      "88/100epoch loss : 0.9861723780632019\n",
      "89/100epoch loss : 0.9859213829040527\n",
      "90/100epoch loss : 0.985669732093811\n",
      "91/100epoch loss : 0.9854269623756409\n",
      "92/100epoch loss : 0.9851850271224976\n",
      "93/100epoch loss : 0.9849468469619751\n",
      "94/100epoch loss : 0.9847174286842346\n",
      "95/100epoch loss : 0.9844946265220642\n",
      "96/100epoch loss : 0.9842703938484192\n",
      "97/100epoch loss : 0.9840528964996338\n",
      "98/100epoch loss : 0.9838343858718872\n",
      "99/100epoch loss : 0.9836254715919495\n",
      "100/100epoch loss : 0.983414888381958\n"
     ]
    }
   ],
   "source": [
    "#72#73\n",
    "criterion = nn.CrossEntropyLoss()\n",
    "optimizer = torch.optim.SGD(params=model.parameters() , lr=0.3, momentum=0.9)\n",
    "\n",
    "epochs=100\n",
    "for epoch in range(epochs):\n",
    "    optimizer.zero_grad()\n",
    "    hat_y = model(X_train)\n",
    "    loss=criterion(hat_y, y_train)\n",
    "    print(\"{}/{}epoch loss : {}\".format(epoch+1, epochs,loss))\n",
    "    loss.backward()\n",
    "    optimizer.step()"
   ]
  },
  {
   "cell_type": "code",
   "execution_count": 7,
   "metadata": {},
   "outputs": [
    {
     "name": "stdout",
     "output_type": "stream",
     "text": [
      "train_acc :  0.7827961019490255\n",
      "valid_acc :  0.7653673163418291\n"
     ]
    }
   ],
   "source": [
    "#74\n",
    "_, label=torch.max(model(X_train), 1)\n",
    "correct=(label==y_train).sum().item()\n",
    "print(\"train_acc : \", correct/label.size(0))\n",
    "\n",
    "_, label=torch.max(model(X_valid), 1)\n",
    "correct=(label==y_valid).sum().item()\n",
    "print(\"valid_acc : \", correct/label.size(0))"
   ]
  },
  {
   "cell_type": "code",
   "execution_count": 54,
   "metadata": {
    "scrolled": true
   },
   "outputs": [
    {
     "name": "stderr",
     "output_type": "stream",
     "text": [
      "/anaconda3/lib/python3.6/site-packages/torch/serialization.py:256: UserWarning: Couldn't retrieve source code for container of type MLP. It won't be checked for correctness upon loading.\n",
      "  \"type \" + obj.__name__ + \". It won't be checked \"\n"
     ]
    }
   ],
   "source": [
    "#75#76#79\n",
    "import matplotlib.pyplot as plt\n",
    "def get_acc(y_hat, y):\n",
    "    _, label=torch.max(y_hat, 1)\n",
    "    correct=(label==y).sum().item()\n",
    "    return correct/label.size(0)\n",
    "model=singleLP()\n",
    "\n",
    "class MLP(nn.Module):\n",
    "    def __init__(self):\n",
    "        super(MLP, self).__init__()\n",
    "        self.fc1=nn.Linear(300, 512)\n",
    "        self.fc2=nn.Linear(512,512)\n",
    "        self.fc3=nn.Linear(512,4)\n",
    "        self.softmax = nn.Softmax(1)\n",
    "    def forward(self, x):\n",
    "        h=F.relu(self.fc1(x))\n",
    "        h=F.relu(self.fc2(h))\n",
    "        h=self.fc3(h)\n",
    "        return self.softmax(h)\n",
    "\n",
    "model=MLP()\n",
    "batch_size=128\n",
    "epochs=30\n",
    "criterion = nn.CrossEntropyLoss()\n",
    "optimizer = torch.optim.SGD(params=model.parameters() , lr=0.01, momentum=0.9)\n",
    "def train_model(epochs, net):\n",
    "    train_loss=[]\n",
    "    train_acc=[]\n",
    "    valid_loss=[]\n",
    "    valid_acc=[]\n",
    "    for epoch in range(epochs):\n",
    "        for idx in range(0, len(X_train), batch_size):\n",
    "            optimizer.zero_grad()\n",
    "            hat_train_y = net(X_train[idx : idx+batch_size if idx+batch_size<=len(X_train) else len(X_train)])\n",
    "            loss=criterion(hat_train_y, y_train[idx : idx+batch_size if idx+batch_size<=len(X_train) else len(X_train)])\n",
    "            loss.backward()\n",
    "            optimizer.step()\n",
    "        torch.save(net, \"../checkpoint/checkpoin_{}.pt\".format(epoch+1))\n",
    "        \n",
    "        with torch.no_grad():\n",
    "            hat_train_y=net(X_train)\n",
    "            train_loss.append(criterion(hat_train_y, y_train))\n",
    "            train_acc.append(get_acc(hat_train_y,y_train))\n",
    "            #検証用\n",
    "\n",
    "            hat_valid_y = net(X_valid)\n",
    "            valid_loss.append(criterion(hat_valid_y, y_valid))\n",
    "            valid_acc.append(get_acc(hat_valid_y,y_valid))\n",
    "    return train_loss, train_acc, valid_loss, valid_acc\n",
    "train_loss, train_acc, valid_loss, valid_acc=train_model(epochs, model)"
   ]
  },
  {
   "cell_type": "code",
   "execution_count": 55,
   "metadata": {},
   "outputs": [
    {
     "data": {
      "image/png": "[encoded data removed]",
      "text/plain": [
       "<matplotlib.figure.Figure at 0x230662048>"
      ]
     },
     "metadata": {},
     "output_type": "display_data"
    },
    {
     "data": {
      "image/png": "[encoded data removed]",
      "text/plain": [
       "<matplotlib.figure.Figure at 0x231f6ba90>"
      ]
     },
     "metadata": {},
     "output_type": "display_data"
    }
   ],
   "source": [
    "plt.plot([i+1 for i in range(epochs)], train_loss, label=\"train_loss\")\n",
    "plt.plot([i+1 for i in range(epochs)], valid_loss, label=\"valid_loss\")\n",
    "plt.xlabel(\"epochs\")\n",
    "plt.ylabel(\"loss\")\n",
    "plt.legend()\n",
    "plt.show()\n",
    "plt.plot([i+1 for i in range(epochs)], train_acc, label=\"train_acc\")\n",
    "plt.plot([i+1 for i in range(epochs)], valid_acc, label=\"valid_acc\")\n",
    "plt.xlabel(\"epochs\")\n",
    "plt.ylabel(\"acc\")\n",
    "plt.legend()\n",
    "plt.show()"
   ]
  },
  {
   "cell_type": "code",
   "execution_count": 10,
   "metadata": {},
   "outputs": [],
   "source": [
    "#77\n",
    "import time\n",
    "batch_list=[1,2,4,8,16,32,64,128,256,512]\n",
    "mean_time=[]\n",
    "for batch_size in batch_list:\n",
    "    model=singleLP()\n",
    "    criterion = nn.CrossEntropyLoss()\n",
    "    optimizer = torch.optim.SGD(params=model.parameters() , lr=0.01, momentum=0.9)\n",
    "    epochs=10\n",
    "    totall_time=0\n",
    "    for epoch in range(epochs):\n",
    "        start=time.time()\n",
    "        for idx in range(0, len(X_train), batch_size):\n",
    "            optimizer.zero_grad()\n",
    "            hat_train_y = model(X_train[idx : idx+batch_size if idx+batch_size<=len(X_train) else len(X_train)])\n",
    "            loss=criterion(hat_train_y, y_train[idx : idx+batch_size if idx+batch_size<=len(X_train) else len(X_train)])\n",
    "            loss.backward()\n",
    "            optimizer.step()\n",
    "        end = time.time()\n",
    "        totall_time+=end-start\n",
    "    mean_time.append(totall_time/epochs)"
   ]
  },
  {
   "cell_type": "code",
   "execution_count": 11,
   "metadata": {},
   "outputs": [
    {
     "data": {
      "image/png": "[encoded data removed]",
      "text/plain": [
       "<matplotlib.figure.Figure at 0x2061f19b0>"
      ]
     },
     "metadata": {},
     "output_type": "display_data"
    }
   ],
   "source": [
    "plt.plot(np.log2(batch_list), mean_time)\n",
    "plt.xlabel(\"batch_size\")\n",
    "plt.ylabel(\"time per epoch\")\n",
    "plt.show()"
   ]
  },
  {
   "cell_type": "code",
   "execution_count": 48,
   "metadata": {},
   "outputs": [],
   "source": [
    "#78略"
   ]
  }
 ],
 "metadata": {
  "kernelspec": {
   "display_name": "Python 3",
   "language": "python",
   "name": "python3"
  },
  "language_info": {
   "codemirror_mode": {
    "name": "ipython",
    "version": 3
   },
   "file_extension": ".py",
   "mimetype": "text/x-python",
   "name": "python",
   "nbconvert_exporter": "python",
   "pygments_lexer": "ipython3",
   "version": "3.6.9"
  }
 },
 "nbformat": 4,
 "nbformat_minor": 2
}
