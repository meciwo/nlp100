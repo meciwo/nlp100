{
 "cells": [
  {
   "cell_type": "code",
   "execution_count": 2,
   "metadata": {},
   "outputs": [],
   "source": [
    "import pandas as pd\n",
    "import numpy as np"
   ]
  },
  {
   "cell_type": "code",
   "execution_count": 3,
   "metadata": {},
   "outputs": [],
   "source": [
    "#50\n",
    "index='ID \\t TITLE \\t URL \\t PUBLISHER \\t CATEGORY \\t STORY \\t HOSTNAME \\t TIMESTAMP'.split(\" \\t \")\n",
    "\n",
    "df = pd.read_csv(\"../data/NewsAggregatorDataset/newsCorpora.csv\", names=index,  sep=\"\\t\")\n",
    "\n",
    "df=df[df.PUBLISHER.isin([\"Reuters\", \"Huffington Post\", \"Businessweek\", \"Contactmusic.com\", \"Daily Mail\"])].sample(frac=1)\n",
    "\n",
    "df.iloc[:int(len(df)*0.8)].to_csv(\"../data/train.txt\", sep=\"\\t\", index=False)\n",
    "df.iloc[int(len(df)*0.8):int(len(df)*0.9)].to_csv(\"../data/valid.txt\", sep=\"\\t\", index=False)\n",
    "df.iloc[int(len(df)*0.9):].to_csv(\"../data/test.txt\", sep=\"\\t\", index=False)"
   ]
  },
  {
   "cell_type": "code",
   "execution_count": 99,
   "metadata": {
    "scrolled": true
   },
   "outputs": [
    {
     "data": {
      "text/plain": [
       "array(['e', 'b', 't', 'm'], dtype=object)"
      ]
     },
     "execution_count": 99,
     "metadata": {},
     "output_type": "execute_result"
    }
   ],
   "source": [
    "df.CATEGORY.unique()"
   ]
  },
  {
   "cell_type": "code",
   "execution_count": 4,
   "metadata": {
    "scrolled": true
   },
   "outputs": [
    {
     "name": "stdout",
     "output_type": "stream",
     "text": [
      "10672\n",
      "1334\n",
      "1334\n"
     ]
    }
   ],
   "source": [
    "train = pd.read_csv(\"../data/train.txt\", sep=\"\\t\")\n",
    "print(len(train))\n",
    "valid = pd.read_csv(\"../data/valid.txt\", sep='\\t')\n",
    "print(len(valid))\n",
    "test = pd.read_csv(\"../data/test.txt\", sep=\"\\t\")\n",
    "print(len(test))"
   ]
  },
  {
   "cell_type": "code",
   "execution_count": 8,
   "metadata": {},
   "outputs": [],
   "source": [
    "#51\n",
    "def add_words(df):\n",
    "    df[\"words\"] = df.TITLE.apply(lambda x: x.split(\" \"))\n",
    "    return df\n",
    "def get_vec(df):\n",
    "    result=[]\n",
    "    for sentence in df.words.values:\n",
    "        sentence_vec=[0]*len(vec)\n",
    "        for word in sentence:\n",
    "            if word in vec:\n",
    "                sentence_vec[vec.index(word)]=1\n",
    "        result.append(sentence_vec)\n",
    "    return result\n",
    "\n",
    "train = add_words(train)\n",
    "valid = add_words(valid)\n",
    "test = add_words(test)\n",
    "\n",
    "from collections import defaultdict\n",
    "frequency = defaultdict(int)\n",
    "for text in train.words:\n",
    "    for token in text:\n",
    "        frequency[token] += 1\n",
    "vec=[]\n",
    "for k, v in frequency.items():\n",
    "    if v>=5:\n",
    "        vec.append(k)\n",
    "\n",
    "np.savetxt(\"../data/train.feature.txt\", np.array(get_vec(train)))\n",
    "np.savetxt(\"../data/valid.feature.txt\", np.array(get_vec(valid)))\n",
    "np.savetxt(\"../data/test.feature.txt\", np.array(get_vec(test)))"
   ]
  },
  {
   "cell_type": "code",
   "execution_count": 21,
   "metadata": {},
   "outputs": [],
   "source": [
    "#52\n",
    "X_train = np.loadtxt('../data/train.feature.txt')\n",
    "X_valid = np.loadtxt('../data/valid.feature.txt')\n",
    "X_test = np.loadtxt('../data/test.feature.txt')"
   ]
  },
  {
   "cell_type": "code",
   "execution_count": 72,
   "metadata": {},
   "outputs": [],
   "source": [
    "y_train = train.CATEGORY.values\n",
    "y_valid = valid.CATEGORY.values\n",
    "y_test = test.CATEGORY.values"
   ]
  },
  {
   "cell_type": "code",
   "execution_count": 59,
   "metadata": {
    "scrolled": true
   },
   "outputs": [
    {
     "name": "stderr",
     "output_type": "stream",
     "text": [
      "/anaconda3/lib/python3.6/site-packages/sklearn/linear_model/logistic.py:432: FutureWarning: Default solver will be changed to 'lbfgs' in 0.22. Specify a solver to silence this warning.\n",
      "  FutureWarning)\n",
      "/anaconda3/lib/python3.6/site-packages/sklearn/linear_model/logistic.py:469: FutureWarning: Default multi_class will be changed to 'auto' in 0.22. Specify the multi_class option to silence this warning.\n",
      "  \"this warning.\", FutureWarning)\n"
     ]
    }
   ],
   "source": [
    "from sklearn.linear_model import LogisticRegression\n",
    "clf = LogisticRegression().fit(X_train, y_train)"
   ]
  },
  {
   "cell_type": "code",
   "execution_count": 89,
   "metadata": {},
   "outputs": [],
   "source": [
    "#53\n",
    "def get_label_proba(model, X):\n",
    "    label = model.predict(X)\n",
    "    proba = model.predict_proba(X)\n",
    "    return label, proba"
   ]
  },
  {
   "cell_type": "code",
   "execution_count": 90,
   "metadata": {},
   "outputs": [
    {
     "name": "stdout",
     "output_type": "stream",
     "text": [
      "train acc: 0.9491191904047976\n",
      "valid acc: 0.8733133433283359\n"
     ]
    }
   ],
   "source": [
    "#54\n",
    "def accuracy(y_hat, y):\n",
    "    cnt = 0\n",
    "    for i in range(len(y_hat)):\n",
    "        if y_hat[i]==y[i]:\n",
    "            cnt+=1\n",
    "    return cnt/len(y_hat)\n",
    "train_hat, _ = get_label_proba(clf, X_train)\n",
    "valid_hat, _ = get_label_proba(clf, X_valid)\n",
    "test_hat, _ = get_label_proba(clf, X_test)\n",
    "print(\"train acc:\", accuracy(train_hat, y_train))\n",
    "print(\"valid acc:\", accuracy(valid_hat, y_valid))"
   ]
  },
  {
   "cell_type": "code",
   "execution_count": 94,
   "metadata": {},
   "outputs": [
    {
     "name": "stdout",
     "output_type": "stream",
     "text": [
      "[[4388   60    4   44]\n",
      " [  43 4190    3    4]\n",
      " [  72   70  570    8]\n",
      " [ 153   76    6  981]]\n"
     ]
    }
   ],
   "source": [
    "#55\n",
    "from sklearn.metrics import confusion_matrix\n",
    "train_cmatrix=confusion_matrix(y_train,train_hat, labels=['e', 'b', 't', 'm'])\n",
    "print(train_cmatrix)"
   ]
  },
  {
   "cell_type": "code",
   "execution_count": 105,
   "metadata": {},
   "outputs": [
    {
     "name": "stdout",
     "output_type": "stream",
     "text": [
      "e\n",
      "再現性 0.9759786476868327\n",
      "適合性 0.9424398625429553\n",
      "F1 0.9589160839160839\n",
      "---------------------------------\n",
      "b\n",
      "再現性 0.9882075471698113\n",
      "適合性 0.9531392174704276\n",
      "F1 0.970356646595646\n",
      "---------------------------------\n",
      "t\n",
      "再現性 0.7916666666666666\n",
      "適合性 0.9777015437392796\n",
      "F1 0.8749040675364544\n",
      "---------------------------------\n",
      "m\n",
      "再現性 0.8067434210526315\n",
      "適合性 0.9459980713596914\n",
      "F1 0.8708388814913449\n",
      "---------------------------------\n"
     ]
    }
   ],
   "source": [
    "#56\n",
    "for i , label in enumerate(['e', 'b', 't', 'm']):\n",
    "    recall = train_cmatrix[i][i]/np.sum(train_cmatrix[i,:])\n",
    "    precision = train_cmatrix[i][i]/np.sum(train_cmatrix[:,i])\n",
    "    print(label)\n",
    "    print(\"再現性\", recall)\n",
    "    print(\"適合性\", precision)\n",
    "    print(\"F1\", 2/ ((1/recall)+(1/precision)))\n",
    "    print(\"---------------------------------\")"
   ]
  },
  {
   "cell_type": "code",
   "execution_count": 123,
   "metadata": {},
   "outputs": [
    {
     "name": "stdout",
     "output_type": "stream",
     "text": [
      "worst10 words:  ['anxiety', 'least', 'Mccartney', 'announce', 'married', 'toned', 'Katt', 'MARKETS-Wall', 'where', 'Pride']\n",
      "top10  words:  ['FCC', 'Apple', 'Climate', 'Microsoft', 'MERS', 'Bank', 'FDA', 'Google', 'Ebola', 'Facebook']\n"
     ]
    }
   ],
   "source": [
    "#57\n",
    "worst10=np.argsort(abs(clf.coef_).sum(axis=0))[:10]\n",
    "print(\"worst10 words: \",[vec[num] for num in worst10])\n",
    "top10=np.argsort(abs(clf.coef_).sum(axis=0))[-10:]\n",
    "print(\"top10  words: \",[vec[num] for num in top10])"
   ]
  },
  {
   "cell_type": "code",
   "execution_count": 136,
   "metadata": {
    "scrolled": true
   },
   "outputs": [
    {
     "name": "stderr",
     "output_type": "stream",
     "text": [
      "/anaconda3/lib/python3.6/site-packages/sklearn/linear_model/logistic.py:432: FutureWarning: Default solver will be changed to 'lbfgs' in 0.22. Specify a solver to silence this warning.\n",
      "  FutureWarning)\n",
      "/anaconda3/lib/python3.6/site-packages/sklearn/linear_model/logistic.py:469: FutureWarning: Default multi_class will be changed to 'auto' in 0.22. Specify the multi_class option to silence this warning.\n",
      "  \"this warning.\", FutureWarning)\n",
      "/anaconda3/lib/python3.6/site-packages/sklearn/linear_model/logistic.py:432: FutureWarning: Default solver will be changed to 'lbfgs' in 0.22. Specify a solver to silence this warning.\n",
      "  FutureWarning)\n",
      "/anaconda3/lib/python3.6/site-packages/sklearn/linear_model/logistic.py:469: FutureWarning: Default multi_class will be changed to 'auto' in 0.22. Specify the multi_class option to silence this warning.\n",
      "  \"this warning.\", FutureWarning)\n",
      "/anaconda3/lib/python3.6/site-packages/sklearn/linear_model/logistic.py:432: FutureWarning: Default solver will be changed to 'lbfgs' in 0.22. Specify a solver to silence this warning.\n",
      "  FutureWarning)\n",
      "/anaconda3/lib/python3.6/site-packages/sklearn/linear_model/logistic.py:469: FutureWarning: Default multi_class will be changed to 'auto' in 0.22. Specify the multi_class option to silence this warning.\n",
      "  \"this warning.\", FutureWarning)\n",
      "/anaconda3/lib/python3.6/site-packages/sklearn/linear_model/logistic.py:432: FutureWarning: Default solver will be changed to 'lbfgs' in 0.22. Specify a solver to silence this warning.\n",
      "  FutureWarning)\n",
      "/anaconda3/lib/python3.6/site-packages/sklearn/linear_model/logistic.py:469: FutureWarning: Default multi_class will be changed to 'auto' in 0.22. Specify the multi_class option to silence this warning.\n",
      "  \"this warning.\", FutureWarning)\n",
      "/anaconda3/lib/python3.6/site-packages/sklearn/linear_model/logistic.py:432: FutureWarning: Default solver will be changed to 'lbfgs' in 0.22. Specify a solver to silence this warning.\n",
      "  FutureWarning)\n",
      "/anaconda3/lib/python3.6/site-packages/sklearn/linear_model/logistic.py:469: FutureWarning: Default multi_class will be changed to 'auto' in 0.22. Specify the multi_class option to silence this warning.\n",
      "  \"this warning.\", FutureWarning)\n",
      "/anaconda3/lib/python3.6/site-packages/sklearn/linear_model/logistic.py:432: FutureWarning: Default solver will be changed to 'lbfgs' in 0.22. Specify a solver to silence this warning.\n",
      "  FutureWarning)\n",
      "/anaconda3/lib/python3.6/site-packages/sklearn/linear_model/logistic.py:469: FutureWarning: Default multi_class will be changed to 'auto' in 0.22. Specify the multi_class option to silence this warning.\n",
      "  \"this warning.\", FutureWarning)\n",
      "/anaconda3/lib/python3.6/site-packages/sklearn/linear_model/logistic.py:432: FutureWarning: Default solver will be changed to 'lbfgs' in 0.22. Specify a solver to silence this warning.\n",
      "  FutureWarning)\n",
      "/anaconda3/lib/python3.6/site-packages/sklearn/linear_model/logistic.py:469: FutureWarning: Default multi_class will be changed to 'auto' in 0.22. Specify the multi_class option to silence this warning.\n",
      "  \"this warning.\", FutureWarning)\n",
      "/anaconda3/lib/python3.6/site-packages/sklearn/linear_model/logistic.py:432: FutureWarning: Default solver will be changed to 'lbfgs' in 0.22. Specify a solver to silence this warning.\n",
      "  FutureWarning)\n",
      "/anaconda3/lib/python3.6/site-packages/sklearn/linear_model/logistic.py:469: FutureWarning: Default multi_class will be changed to 'auto' in 0.22. Specify the multi_class option to silence this warning.\n",
      "  \"this warning.\", FutureWarning)\n",
      "/anaconda3/lib/python3.6/site-packages/sklearn/linear_model/logistic.py:432: FutureWarning: Default solver will be changed to 'lbfgs' in 0.22. Specify a solver to silence this warning.\n",
      "  FutureWarning)\n",
      "/anaconda3/lib/python3.6/site-packages/sklearn/linear_model/logistic.py:469: FutureWarning: Default multi_class will be changed to 'auto' in 0.22. Specify the multi_class option to silence this warning.\n",
      "  \"this warning.\", FutureWarning)\n",
      "/anaconda3/lib/python3.6/site-packages/sklearn/linear_model/logistic.py:432: FutureWarning: Default solver will be changed to 'lbfgs' in 0.22. Specify a solver to silence this warning.\n",
      "  FutureWarning)\n",
      "/anaconda3/lib/python3.6/site-packages/sklearn/linear_model/logistic.py:469: FutureWarning: Default multi_class will be changed to 'auto' in 0.22. Specify the multi_class option to silence this warning.\n",
      "  \"this warning.\", FutureWarning)\n"
     ]
    }
   ],
   "source": [
    "#58\n",
    "train_acc=[]\n",
    "valid_acc=[]\n",
    "for i in range(1,11):\n",
    "    clf = LogisticRegression(C=i*0.1).fit(X_train, y_train)\n",
    "    train_hat, _ = get_label_proba(clf, X_train)\n",
    "    valid_hat, _ = get_label_proba(clf, X_valid)\n",
    "    train_acc.append(accuracy(train_hat, y_train))\n",
    "    valid_acc.append(accuracy(valid_hat, y_valid))"
   ]
  },
  {
   "cell_type": "code",
   "execution_count": 137,
   "metadata": {},
   "outputs": [
    {
     "data": {
      "image/png": "[encoded data removed]",
      "text/plain": [
       "<matplotlib.figure.Figure at 0x11a1e8dd8>"
      ]
     },
     "metadata": {},
     "output_type": "display_data"
    }
   ],
   "source": [
    "import matplotlib.pyplot as plt\n",
    "plt.xlabel(\"C\")\n",
    "plt.ylabel(\"Accuracy\")\n",
    "plt.plot([i*0.1 for i in range(1,11)], train_acc, label=\"train\")\n",
    "plt.plot([i*0.1 for i in range(1,11)], valid_acc, label=\"valid\")\n",
    "plt.legend()\n",
    "plt.show()"
   ]
  },
  {
   "cell_type": "code",
   "execution_count": 150,
   "metadata": {
    "scrolled": true
   },
   "outputs": [
    {
     "name": "stderr",
     "output_type": "stream",
     "text": [
      "/anaconda3/lib/python3.6/site-packages/sklearn/linear_model/logistic.py:432: FutureWarning: Default solver will be changed to 'lbfgs' in 0.22. Specify a solver to silence this warning.\n",
      "  FutureWarning)\n",
      "/anaconda3/lib/python3.6/site-packages/sklearn/linear_model/logistic.py:469: FutureWarning: Default multi_class will be changed to 'auto' in 0.22. Specify the multi_class option to silence this warning.\n",
      "  \"this warning.\", FutureWarning)\n",
      "/anaconda3/lib/python3.6/site-packages/sklearn/linear_model/logistic.py:432: FutureWarning: Default solver will be changed to 'lbfgs' in 0.22. Specify a solver to silence this warning.\n",
      "  FutureWarning)\n",
      "/anaconda3/lib/python3.6/site-packages/sklearn/linear_model/logistic.py:469: FutureWarning: Default multi_class will be changed to 'auto' in 0.22. Specify the multi_class option to silence this warning.\n",
      "  \"this warning.\", FutureWarning)\n",
      "/anaconda3/lib/python3.6/site-packages/sklearn/linear_model/logistic.py:432: FutureWarning: Default solver will be changed to 'lbfgs' in 0.22. Specify a solver to silence this warning.\n",
      "  FutureWarning)\n",
      "/anaconda3/lib/python3.6/site-packages/sklearn/linear_model/logistic.py:469: FutureWarning: Default multi_class will be changed to 'auto' in 0.22. Specify the multi_class option to silence this warning.\n",
      "  \"this warning.\", FutureWarning)\n",
      "/anaconda3/lib/python3.6/site-packages/sklearn/linear_model/logistic.py:432: FutureWarning: Default solver will be changed to 'lbfgs' in 0.22. Specify a solver to silence this warning.\n",
      "  FutureWarning)\n",
      "/anaconda3/lib/python3.6/site-packages/sklearn/linear_model/logistic.py:469: FutureWarning: Default multi_class will be changed to 'auto' in 0.22. Specify the multi_class option to silence this warning.\n",
      "  \"this warning.\", FutureWarning)\n",
      "/anaconda3/lib/python3.6/site-packages/sklearn/linear_model/logistic.py:432: FutureWarning: Default solver will be changed to 'lbfgs' in 0.22. Specify a solver to silence this warning.\n",
      "  FutureWarning)\n",
      "/anaconda3/lib/python3.6/site-packages/sklearn/linear_model/logistic.py:469: FutureWarning: Default multi_class will be changed to 'auto' in 0.22. Specify the multi_class option to silence this warning.\n",
      "  \"this warning.\", FutureWarning)\n",
      "/anaconda3/lib/python3.6/site-packages/sklearn/linear_model/logistic.py:432: FutureWarning: Default solver will be changed to 'lbfgs' in 0.22. Specify a solver to silence this warning.\n",
      "  FutureWarning)\n",
      "/anaconda3/lib/python3.6/site-packages/sklearn/linear_model/logistic.py:469: FutureWarning: Default multi_class will be changed to 'auto' in 0.22. Specify the multi_class option to silence this warning.\n",
      "  \"this warning.\", FutureWarning)\n",
      "/anaconda3/lib/python3.6/site-packages/sklearn/linear_model/logistic.py:432: FutureWarning: Default solver will be changed to 'lbfgs' in 0.22. Specify a solver to silence this warning.\n",
      "  FutureWarning)\n",
      "/anaconda3/lib/python3.6/site-packages/sklearn/linear_model/logistic.py:469: FutureWarning: Default multi_class will be changed to 'auto' in 0.22. Specify the multi_class option to silence this warning.\n",
      "  \"this warning.\", FutureWarning)\n",
      "/anaconda3/lib/python3.6/site-packages/sklearn/linear_model/logistic.py:432: FutureWarning: Default solver will be changed to 'lbfgs' in 0.22. Specify a solver to silence this warning.\n",
      "  FutureWarning)\n",
      "/anaconda3/lib/python3.6/site-packages/sklearn/linear_model/logistic.py:469: FutureWarning: Default multi_class will be changed to 'auto' in 0.22. Specify the multi_class option to silence this warning.\n",
      "  \"this warning.\", FutureWarning)\n",
      "/anaconda3/lib/python3.6/site-packages/sklearn/linear_model/logistic.py:432: FutureWarning: Default solver will be changed to 'lbfgs' in 0.22. Specify a solver to silence this warning.\n",
      "  FutureWarning)\n",
      "/anaconda3/lib/python3.6/site-packages/sklearn/linear_model/logistic.py:469: FutureWarning: Default multi_class will be changed to 'auto' in 0.22. Specify the multi_class option to silence this warning.\n",
      "  \"this warning.\", FutureWarning)\n",
      "/anaconda3/lib/python3.6/site-packages/sklearn/linear_model/logistic.py:432: FutureWarning: Default solver will be changed to 'lbfgs' in 0.22. Specify a solver to silence this warning.\n",
      "  FutureWarning)\n",
      "/anaconda3/lib/python3.6/site-packages/sklearn/linear_model/logistic.py:469: FutureWarning: Default multi_class will be changed to 'auto' in 0.22. Specify the multi_class option to silence this warning.\n",
      "  \"this warning.\", FutureWarning)\n"
     ]
    },
    {
     "data": {
      "image/png": "[encoded data removed]",
      "text/plain": [
       "<matplotlib.figure.Figure at 0x1147dd550>"
      ]
     },
     "metadata": {},
     "output_type": "display_data"
    }
   ],
   "source": [
    "#59\n",
    "train_acc=[]\n",
    "valid_acc=[]\n",
    "for i in range(1,11):\n",
    "    clf = LogisticRegression(C=0.1*i).fit(X_train, y_train)\n",
    "    train_hat, _ = get_label_proba(clf, X_train)\n",
    "    valid_hat, _ = get_label_proba(clf, X_valid)\n",
    "    train_acc.append(accuracy(train_hat, y_train))\n",
    "    valid_acc.append(accuracy(valid_hat, y_valid))\n",
    "import matplotlib.pyplot as plt\n",
    "plt.xlabel(\"C\")\n",
    "plt.ylabel(\"Accuracy\")\n",
    "plt.plot([i*0.1 for i in range(1,11)], train_acc, label=\"train\")\n",
    "plt.plot([i*0.1 for i in range(1,11)], valid_acc, label=\"valid\")\n",
    "plt.legend()\n",
    "plt.show()"
   ]
  },
  {
   "cell_type": "code",
   "execution_count": 139,
   "metadata": {
    "scrolled": false
   },
   "outputs": [
    {
     "data": {
      "text/plain": [
       "[0.9491191904047976,\n",
       " 0.9491191904047976,\n",
       " 0.9491191904047976,\n",
       " 0.9491191904047976,\n",
       " 0.9491191904047976,\n",
       " 0.9491191904047976,\n",
       " 0.9491191904047976,\n",
       " 0.9491191904047976,\n",
       " 0.9491191904047976,\n",
       " 0.9491191904047976]"
      ]
     },
     "execution_count": 139,
     "metadata": {},
     "output_type": "execute_result"
    }
   ],
   "source": [
    "used_model = LogisticRegression(C=np.argmax(valid_acc)).fit(X_train, y_train)\n",
    "test_hat, _ = get_label_proba(used_model, X_test)\n",
    "print(accuracy(v_hat, y_test))"
   ]
  },
  {
   "cell_type": "code",
   "execution_count": null,
   "metadata": {},
   "outputs": [],
   "source": []
  }
 ],
 "metadata": {
  "kernelspec": {
   "display_name": "Python 3",
   "language": "python",
   "name": "python3"
  },
  "language_info": {
   "codemirror_mode": {
    "name": "ipython",
    "version": 3
   },
   "file_extension": ".py",
   "mimetype": "text/x-python",
   "name": "python",
   "nbconvert_exporter": "python",
   "pygments_lexer": "ipython3",
   "version": "3.6.9"
  }
 },
 "nbformat": 4,
 "nbformat_minor": 2
}
