{
 "cells": [
  {
   "cell_type": "code",
   "execution_count": 6,
   "metadata": {},
   "outputs": [
    {
     "name": "stdout",
     "output_type": "stream",
     "text": [
      "desserts\n"
     ]
    }
   ],
   "source": [
    "#00\n",
    "s=\"stressed\"\n",
    "t=\"\"\n",
    "for i in range(len(s)):\n",
    "    t+= s[len(s)-i-1]\n",
    "print(t)"
   ]
  },
  {
   "cell_type": "code",
   "execution_count": 11,
   "metadata": {},
   "outputs": [
    {
     "name": "stdout",
     "output_type": "stream",
     "text": [
      "タクシー\n"
     ]
    }
   ],
   "source": [
    "#01\n",
    "s=\"パタトクカシーー\"\n",
    "t=\"\"\n",
    "for i in range(len(s)//2):\n",
    "    t += s[i*2+1]\n",
    "print(t)"
   ]
  },
  {
   "cell_type": "code",
   "execution_count": 12,
   "metadata": {},
   "outputs": [
    {
     "name": "stdout",
     "output_type": "stream",
     "text": [
      "パタトクカシーー\n"
     ]
    }
   ],
   "source": [
    "#02\n",
    "s1 = \"パトカー\"\n",
    "s2 = \"タクシー\"\n",
    "t=\"\"\n",
    "for i in range(len(s1)):\n",
    "    t+= s1[i] + s2[i]\n",
    "print(t)"
   ]
  },
  {
   "cell_type": "code",
   "execution_count": 13,
   "metadata": {},
   "outputs": [
    {
     "name": "stdout",
     "output_type": "stream",
     "text": [
      "[3, 1, 4, 1, 6, 9, 2, 7, 5, 3, 5, 8, 9, 7, 10]\n"
     ]
    }
   ],
   "source": [
    "#03\n",
    "s = \"Now I need a drink, alcoholic of course, after the heavy lectures involving quantum mechanics.\"\n",
    "t=[]\n",
    "for i in s.split(\" \"):\n",
    "    t.append(len(i))\n",
    "print(t)"
   ]
  },
  {
   "cell_type": "code",
   "execution_count": 35,
   "metadata": {},
   "outputs": [
    {
     "name": "stdout",
     "output_type": "stream",
     "text": [
      "[(1, 'H'), (2, 'He'), (3, 'Li'), (4, 'Be'), (5, 'B'), (6, 'C'), (7, 'N'), (8, 'O'), (9, 'F'), (10, 'Ne'), (11, 'Na'), (12, 'Mi'), (13, 'Al'), (14, 'Si'), (15, 'P'), (16, 'S'), (17, 'Cl'), (18, 'Ar'), (19, 'K'), (20, 'Ca')]\n"
     ]
    }
   ],
   "source": [
    "#04\n",
    "s=\"Hi He Lied Because Boron Could Not Oxidize Fluorine. New Nations Might Also Sign Peace Security Clause. Arthur King Can.\"\n",
    "s=s.split(\" \")\n",
    "num=[1, 5, 6, 7, 8, 9, 15, 16, 19]\n",
    "else_num = list(set([i for i in range(1, len(s)+1)])- set(num))\n",
    "d={}\n",
    "for i in num:\n",
    "    d[i]=s[i-1][0]\n",
    "for u in else_num:\n",
    "    d[u]=s[u-1][0:2]\n",
    "print(sorted(d.items()))"
   ]
  },
  {
   "cell_type": "code",
   "execution_count": 46,
   "metadata": {},
   "outputs": [
    {
     "name": "stdout",
     "output_type": "stream",
     "text": [
      "[['I', 'am'], ['am', 'an'], ['an', 'NLPer']]\n",
      "['Ia', 'am', 'ma', 'an', 'nN', 'NL', 'LP', 'Pe', 'er']\n"
     ]
    }
   ],
   "source": [
    "#05\n",
    "s=\"I am an NLPer\"\n",
    "def n_gram(s, n):\n",
    "    return [s[i:i+n] for i in range(len(s)-1)]\n",
    "word_bi_gram=n_gram(s.split(\" \"), 2)\n",
    "chr_bi_gram = n_gram(\"\".join(s.split(\" \")), 2)\n",
    "print(word_bi_gram)\n",
    "print(chr_bi_gram)\n",
    "    "
   ]
  },
  {
   "cell_type": "code",
   "execution_count": 52,
   "metadata": {},
   "outputs": [
    {
     "name": "stdout",
     "output_type": "stream",
     "text": [
      "和集合 {'di', 'ph', 'is', 'pa', 'se', 'ag', 'gr', 'ad', 'ar', 'ra', 'ap'}\n",
      "積集合 {'ra', 'pa', 'ar', 'ap'}\n",
      "差集合 {'di', 'is', 'se', 'ad'}\n",
      "True\n",
      "False\n"
     ]
    }
   ],
   "source": [
    "#06\n",
    "s1=\"paraparaparadise\"\n",
    "s2=\"paragraph\"\n",
    "x=set(n_gram(\"\".join((s1).split(\" \")), 2))\n",
    "y=set(n_gram(\"\".join((s2).split(\" \")), 2))\n",
    "print(\"和集合\",x|y)\n",
    "print(\"積集合\", x&y)\n",
    "print(\"差集合\", x-y)\n",
    "print(\"se\" in x)\n",
    "print(\"se\" in y)"
   ]
  },
  {
   "cell_type": "code",
   "execution_count": 54,
   "metadata": {},
   "outputs": [
    {
     "name": "stdout",
     "output_type": "stream",
     "text": [
      "12時の気温は22.4\n"
     ]
    }
   ],
   "source": [
    "#07\n",
    "def make_template(x,y,z):\n",
    "    return (\"{}時の{}は{}\".format(x,y,z))\n",
    "print(make_template(12, \"気温\", 22.4))"
   ]
  },
  {
   "cell_type": "code",
   "execution_count": 60,
   "metadata": {},
   "outputs": [
    {
     "name": "stdout",
     "output_type": "stream",
     "text": [
      "I zn z tizwfzgv hgfwvmg\n",
      "I am a graduate student\n"
     ]
    }
   ],
   "source": [
    "#08\n",
    "def cipher(s):\n",
    "    t=\"\"\n",
    "    for i in s:\n",
    "        if i.islower():\n",
    "            t+=chr(219-ord(i))\n",
    "        else:\n",
    "            t+=i\n",
    "    return t \n",
    "print(cipher(\"I am a graduate student\"))\n",
    "print(cipher(cipher(\"I am a graduate student\")))"
   ]
  },
  {
   "cell_type": "code",
   "execution_count": 79,
   "metadata": {},
   "outputs": [
    {
     "data": {
      "text/plain": [
       "\"I cno'udlt beviele that I culod alclatuy ustdnarend what I was raiendg : the penheanoml poewr of the human mind .\""
      ]
     },
     "execution_count": 79,
     "metadata": {},
     "output_type": "execute_result"
    }
   ],
   "source": [
    "#09\n",
    "import random\n",
    "def Typoglycemia(s):\n",
    "    s_list = s.split(\" \")\n",
    "    a=[]\n",
    "    for i in s_list:\n",
    "        if len(i)>4:\n",
    "            a.append(i[0]+\"\".join(random.sample(i[1:-1], len(i)-2)) +i[len(i)-1])\n",
    "        else:\n",
    "            a.append(i)\n",
    "    return \" \".join(a)\n",
    "Typoglycemia(\"I couldn't believe that I could actually understand what I was reading : the phenomenal power of the human mind .\")"
   ]
  }
 ],
 "metadata": {
  "kernelspec": {
   "display_name": "Python 3",
   "language": "python",
   "name": "python3"
  },
  "language_info": {
   "codemirror_mode": {
    "name": "ipython",
    "version": 3
   },
   "file_extension": ".py",
   "mimetype": "text/x-python",
   "name": "python",
   "nbconvert_exporter": "python",
   "pygments_lexer": "ipython3",
   "version": "3.6.9"
  }
 },
 "nbformat": 4,
 "nbformat_minor": 2
}
